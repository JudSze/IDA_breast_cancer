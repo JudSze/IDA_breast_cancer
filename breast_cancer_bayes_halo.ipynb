{
  "nbformat": 4,
  "nbformat_minor": 0,
  "metadata": {
    "colab": {
      "name": "Untitled0.ipynb",
      "provenance": [],
      "collapsed_sections": []
    },
    "kernelspec": {
      "name": "python3",
      "display_name": "Python 3"
    }
  },
  "cells": [
    {
      "cell_type": "code",
      "metadata": {
        "colab": {
          "base_uri": "https://localhost:8080/"
        },
        "id": "zCmiGWsMMJD6",
        "outputId": "a79f9083-bb1c-4c7d-f08b-06870d3baedd"
      },
      "source": [
        "import numpy as np\n",
        "import graphviz\n",
        "import matplotlib\n",
        "!pip install pomegranate\n",
        "!apt-get install -y graphviz-dev\n",
        "!pip install pygraphviz"
      ],
      "execution_count": 1,
      "outputs": [
        {
          "output_type": "stream",
          "text": [
            "Collecting pomegranate\n",
            "\u001b[?25l  Downloading https://files.pythonhosted.org/packages/67/a1/17396f2bf7e00054ed00fa0667c2a28b3d71a97d4569bacc959abb458212/pomegranate-0.13.5.tar.gz (4.5MB)\n",
            "\u001b[K     |████████████████████████████████| 4.5MB 5.6MB/s \n",
            "\u001b[?25hRequirement already satisfied: numpy>=1.8.0 in /usr/local/lib/python3.6/dist-packages (from pomegranate) (1.18.5)\n",
            "Requirement already satisfied: joblib>=0.9.0b4 in /usr/local/lib/python3.6/dist-packages (from pomegranate) (0.17.0)\n",
            "Requirement already satisfied: networkx>=2.0 in /usr/local/lib/python3.6/dist-packages (from pomegranate) (2.5)\n",
            "Requirement already satisfied: scipy>=0.17.0 in /usr/local/lib/python3.6/dist-packages (from pomegranate) (1.4.1)\n",
            "Requirement already satisfied: pyyaml in /usr/local/lib/python3.6/dist-packages (from pomegranate) (3.13)\n",
            "Requirement already satisfied: decorator>=4.3.0 in /usr/local/lib/python3.6/dist-packages (from networkx>=2.0->pomegranate) (4.4.2)\n",
            "Building wheels for collected packages: pomegranate\n",
            "  Building wheel for pomegranate (setup.py) ... \u001b[?25l\u001b[?25hdone\n",
            "  Created wheel for pomegranate: filename=pomegranate-0.13.5-cp36-cp36m-linux_x86_64.whl size=15238257 sha256=98dd2d1e3dd6fa4a661d9f15281841f16b7c5d11d9d83394a7dc6aa04460e916\n",
            "  Stored in directory: /root/.cache/pip/wheels/99/d9/0a/0758302ccad41a61aa08ae4985b84d4cab5086e99c92a68560\n",
            "Successfully built pomegranate\n",
            "Installing collected packages: pomegranate\n",
            "Successfully installed pomegranate-0.13.5\n",
            "Reading package lists... Done\n",
            "Building dependency tree       \n",
            "Reading state information... Done\n",
            "Note, selecting 'libgraphviz-dev' instead of 'graphviz-dev'\n",
            "The following additional packages will be installed:\n",
            "  libgail-common libgail18 libgtk2.0-0 libgtk2.0-bin libgtk2.0-common\n",
            "  libgvc6-plugins-gtk libxdot4\n",
            "Suggested packages:\n",
            "  gvfs\n",
            "The following NEW packages will be installed:\n",
            "  libgail-common libgail18 libgraphviz-dev libgtk2.0-0 libgtk2.0-bin\n",
            "  libgtk2.0-common libgvc6-plugins-gtk libxdot4\n",
            "0 upgraded, 8 newly installed, 0 to remove and 14 not upgraded.\n",
            "Need to get 2,120 kB of archives.\n",
            "After this operation, 7,128 kB of additional disk space will be used.\n",
            "Get:1 http://archive.ubuntu.com/ubuntu bionic/main amd64 libgtk2.0-common all 2.24.32-1ubuntu1 [125 kB]\n",
            "Get:2 http://archive.ubuntu.com/ubuntu bionic/main amd64 libgtk2.0-0 amd64 2.24.32-1ubuntu1 [1,769 kB]\n",
            "Get:3 http://archive.ubuntu.com/ubuntu bionic/main amd64 libgail18 amd64 2.24.32-1ubuntu1 [14.2 kB]\n",
            "Get:4 http://archive.ubuntu.com/ubuntu bionic/main amd64 libgail-common amd64 2.24.32-1ubuntu1 [112 kB]\n",
            "Get:5 http://archive.ubuntu.com/ubuntu bionic/universe amd64 libxdot4 amd64 2.40.1-2 [15.7 kB]\n",
            "Get:6 http://archive.ubuntu.com/ubuntu bionic/universe amd64 libgvc6-plugins-gtk amd64 2.40.1-2 [18.2 kB]\n",
            "Get:7 http://archive.ubuntu.com/ubuntu bionic/universe amd64 libgraphviz-dev amd64 2.40.1-2 [57.3 kB]\n",
            "Get:8 http://archive.ubuntu.com/ubuntu bionic/main amd64 libgtk2.0-bin amd64 2.24.32-1ubuntu1 [7,536 B]\n",
            "Fetched 2,120 kB in 1s (2,248 kB/s)\n",
            "Selecting previously unselected package libgtk2.0-common.\n",
            "(Reading database ... 144865 files and directories currently installed.)\n",
            "Preparing to unpack .../0-libgtk2.0-common_2.24.32-1ubuntu1_all.deb ...\n",
            "Unpacking libgtk2.0-common (2.24.32-1ubuntu1) ...\n",
            "Selecting previously unselected package libgtk2.0-0:amd64.\n",
            "Preparing to unpack .../1-libgtk2.0-0_2.24.32-1ubuntu1_amd64.deb ...\n",
            "Unpacking libgtk2.0-0:amd64 (2.24.32-1ubuntu1) ...\n",
            "Selecting previously unselected package libgail18:amd64.\n",
            "Preparing to unpack .../2-libgail18_2.24.32-1ubuntu1_amd64.deb ...\n",
            "Unpacking libgail18:amd64 (2.24.32-1ubuntu1) ...\n",
            "Selecting previously unselected package libgail-common:amd64.\n",
            "Preparing to unpack .../3-libgail-common_2.24.32-1ubuntu1_amd64.deb ...\n",
            "Unpacking libgail-common:amd64 (2.24.32-1ubuntu1) ...\n",
            "Selecting previously unselected package libxdot4.\n",
            "Preparing to unpack .../4-libxdot4_2.40.1-2_amd64.deb ...\n",
            "Unpacking libxdot4 (2.40.1-2) ...\n",
            "Selecting previously unselected package libgvc6-plugins-gtk.\n",
            "Preparing to unpack .../5-libgvc6-plugins-gtk_2.40.1-2_amd64.deb ...\n",
            "Unpacking libgvc6-plugins-gtk (2.40.1-2) ...\n",
            "Selecting previously unselected package libgraphviz-dev.\n",
            "Preparing to unpack .../6-libgraphviz-dev_2.40.1-2_amd64.deb ...\n",
            "Unpacking libgraphviz-dev (2.40.1-2) ...\n",
            "Selecting previously unselected package libgtk2.0-bin.\n",
            "Preparing to unpack .../7-libgtk2.0-bin_2.24.32-1ubuntu1_amd64.deb ...\n",
            "Unpacking libgtk2.0-bin (2.24.32-1ubuntu1) ...\n",
            "Setting up libgtk2.0-common (2.24.32-1ubuntu1) ...\n",
            "Setting up libxdot4 (2.40.1-2) ...\n",
            "Setting up libgtk2.0-0:amd64 (2.24.32-1ubuntu1) ...\n",
            "Setting up libgail18:amd64 (2.24.32-1ubuntu1) ...\n",
            "Setting up libgail-common:amd64 (2.24.32-1ubuntu1) ...\n",
            "Setting up libgvc6-plugins-gtk (2.40.1-2) ...\n",
            "Setting up libgraphviz-dev (2.40.1-2) ...\n",
            "Setting up libgtk2.0-bin (2.24.32-1ubuntu1) ...\n",
            "Processing triggers for man-db (2.8.3-2ubuntu0.1) ...\n",
            "Processing triggers for libc-bin (2.27-3ubuntu1.2) ...\n",
            "/sbin/ldconfig.real: /usr/local/lib/python3.6/dist-packages/ideep4py/lib/libmkldnn.so.0 is not a symbolic link\n",
            "\n",
            "Collecting pygraphviz\n",
            "\u001b[?25l  Downloading https://files.pythonhosted.org/packages/1e/19/acf3b8dbd378a2b38c6d9aaa6fa9fcd9f7b4aea5fcd3460014999ff92b3c/pygraphviz-1.6.zip (117kB)\n",
            "\u001b[K     |████████████████████████████████| 122kB 4.4MB/s \n",
            "\u001b[?25hBuilding wheels for collected packages: pygraphviz\n",
            "  Building wheel for pygraphviz (setup.py) ... \u001b[?25l\u001b[?25hdone\n",
            "  Created wheel for pygraphviz: filename=pygraphviz-1.6-cp36-cp36m-linux_x86_64.whl size=155451 sha256=915cd0d6d9be3728bbb7a29eacc99bddb3f78979c625d462ca7bccd9405e4bcb\n",
            "  Stored in directory: /root/.cache/pip/wheels/7c/45/a1/93b830b69fb81d1ae84a248da30e2c0b926a3a6e3435908e6d\n",
            "Successfully built pygraphviz\n",
            "Installing collected packages: pygraphviz\n",
            "Successfully installed pygraphviz-1.6\n"
          ],
          "name": "stdout"
        }
      ]
    },
    {
      "cell_type": "code",
      "metadata": {
        "colab": {
          "base_uri": "https://localhost:8080/"
        },
        "id": "15--rBqZMPCD",
        "outputId": "c545d889-c042-4f87-dea0-71999828d213"
      },
      "source": [
        "%matplotlib inline\n",
        "import numpy as np\n",
        "import pandas as pd\n",
        "import json\n",
        "\n",
        "import matplotlib as mpl\n",
        "mpl.rcParams['figure.figsize'] = [3, 2]\n",
        "mpl.rcParams['figure.dpi'] = 200\n",
        "\n",
        "from matplotlib import pyplot as plt\n",
        "\n",
        "import pomegranate as pg; print('pg: ' + pg.__version__)\n",
        "import numpy as np; print('np: ' + np.__version__)"
      ],
      "execution_count": 2,
      "outputs": [
        {
          "output_type": "stream",
          "text": [
            "pg: 0.13.5\n",
            "np: 1.18.5\n"
          ],
          "name": "stdout"
        }
      ]
    },
    {
      "cell_type": "code",
      "metadata": {
        "id": "cECnzUPJMX-b"
      },
      "source": [
        "from pomegranate import DiscreteDistribution, ConditionalProbabilityTable\n",
        "\n",
        "familyHistory=DiscreteDistribution({True: 0.17,\n",
        "                                    False: 0.83})\n",
        "\n",
        "compFilm=DiscreteDistribution({True: 0.85,\n",
        "                                      False: 0.03})\n",
        "\n",
        "density=ConditionalProbabilityTable([\n",
        "                                     [True, True, True,    0.15],\n",
        "                                     [True, True, False,   0.16],\n",
        "                                     [True, False, True,   0.04],\n",
        "                                     [False, True, True,    0.7],\n",
        "                                     [False, True, False,   0.7],\n",
        "                                     [False, False, False, 0.04],\n",
        "                                     [True, False, False, 0.003],\n",
        "                                     [False, False, True,  0.26],\n",
        "\n",
        "], [familyHistory, compFilm])\n",
        "\n",
        "assess=ConditionalProbabilityTable([\n",
        "                                    [True,  True,    0.9],\n",
        "                                    [False, False,  0.15],\n",
        "                                    [False, True,   0.09],\n",
        "                                    [True,  False,  0.85],\n",
        "], [density])\n",
        "\n",
        "biophx=ConditionalProbabilityTable([\n",
        "                                    [True,  True,   0.36],\n",
        "                                    [False, False,  0.86],\n",
        "                                    [True,  False,  0.24],\n",
        "                                    [False, True,    0.6],\n",
        "], [assess])\n",
        "\n",
        "cancer=ConditionalProbabilityTable([\n",
        "                                    [True,  True,     0.9],\n",
        "                                    [False, False,   0.14],\n",
        "                                    [False, True,     0.1],\n",
        "                                    [True,  False,   0.86],\n",
        "],[biophx])\n",
        "\n",
        "\n"
      ],
      "execution_count": 10,
      "outputs": []
    },
    {
      "cell_type": "code",
      "metadata": {
        "id": "iiV7wnkeMZax"
      },
      "source": [
        "from pomegranate import State\n",
        "from pomegranate import BayesianNetwork\n",
        "import ast\n",
        "import json"
      ],
      "execution_count": 3,
      "outputs": []
    },
    {
      "cell_type": "code",
      "metadata": {
        "id": "zmmay3lSMZWW"
      },
      "source": [
        "familyHistoryNode=State(familyHistory, name=\"FamilyHistory\")\n",
        "compFilmNode=State(compFilm, name=\"CompFilm\")\n",
        "densityNode=State(density, name=\"Density\")\n",
        "assessNode=State(assess, name=\"Assess\")\n",
        "\n",
        "biophxNode=State(biophx, name=\"Biopsy\")\n",
        "cancerNode=State(cancer, name=\"Cancer\")"
      ],
      "execution_count": 8,
      "outputs": []
    },
    {
      "cell_type": "code",
      "metadata": {
        "id": "EoGRRvRpMZS7"
      },
      "source": [
        "model = BayesianNetwork(\"Patients density (partial)\")\n",
        "\n",
        "model.add_states(familyHistoryNode,\n",
        "                        compFilmNode,\n",
        "                        densityNode,\n",
        "                        assessNode,\n",
        "                        biophxNode,\n",
        "                        cancerNode)\n",
        "\n",
        "model.add_edge(familyHistoryNode, densityNode)\n",
        "model.add_edge(compFilmNode, densityNode)\n",
        "model.add_edge(densityNode, assessNode)\n",
        "model.add_edge(assessNode, biophxNode)\n",
        "model.add_edge(densityNode,cancerNode)\n",
        "\n",
        "model.bake()"
      ],
      "execution_count": 9,
      "outputs": []
    },
    {
      "cell_type": "code",
      "metadata": {
        "id": "YkbiO6cDMZMJ"
      },
      "source": [
        "from pomegranate.utils import plot_networkx\n",
        "import time\n",
        "import matplotlib as mlp\n",
        "import matplotlib.pyplot as plt\n",
        "import numpy\n",
        "import networkx\n",
        "\n",
        "numpy.random.seed(6)"
      ],
      "execution_count": null,
      "outputs": []
    },
    {
      "cell_type": "code",
      "metadata": {
        "colab": {
          "base_uri": "https://localhost:8080/",
          "height": 359
        },
        "id": "UqWYcvKEMZH3",
        "outputId": "1ad6c7a3-73fe-42f2-8e0b-005bedf22569"
      },
      "source": [
        "import tempfile\n",
        "import graphviz as pygraphviz \n",
        "import matplotlib.pyplot as plt\n",
        "\n",
        "\n",
        "model.plot()"
      ],
      "execution_count": null,
      "outputs": [
        {
          "output_type": "display_data",
          "data": {
            "image/png": "[encoded data removed]",
            "text/plain": [
              "<Figure size 600x400 with 1 Axes>"
            ]
          },
          "metadata": {
            "tags": [],
            "needs_background": "light"
          }
        }
      ]
    },
    {
      "cell_type": "code",
      "metadata": {
        "id": "c-zgQBZBMZEM"
      },
      "source": [
        "from pomegranate import Distribution\n",
        "\n",
        "def print_inference_result(inference_result: []):\n",
        "  global model\n",
        "  assert len(model.states) == len(inference_result)\n",
        "  for i in range(len(model.states)):\n",
        "\n",
        "    print(model.states[i].name + ':')\n",
        "\n",
        "    if isinstance(inference_result[i], Distribution):\n",
        "\n",
        "      for key in inference_result[i].parameters[0].keys():\n",
        "        print('\\t' + str(key) + ':\\t' +\n",
        "              (\"%.4f\" % inference_result[i].parameters[0][key]))\n",
        "    else:\n",
        "      print('\\t' + str(inference_result[i]))\n",
        "    print()"
      ],
      "execution_count": null,
      "outputs": []
    },
    {
      "cell_type": "code",
      "metadata": {
        "id": "g85amkhoMY_Q",
        "colab": {
          "base_uri": "https://localhost:8080/"
        },
        "outputId": "20ae5cf5-0107-40ed-feca-5f6de4972856"
      },
      "source": [
        "evidence_set = {}\n",
        "\n",
        "inference_result = model.predict_proba(evidence_set)\n",
        "print_inference_result(inference_result)"
      ],
      "execution_count": null,
      "outputs": [
        {
          "output_type": "stream",
          "text": [
            "FamilyHistory:\n",
            "\tTrue:\t0.0421\n",
            "\tFalse:\t0.9579\n",
            "\n",
            "CompFilm:\n",
            "\tTrue:\t0.9988\n",
            "\tFalse:\t0.0012\n",
            "\n",
            "Density:\n",
            "\tFalse:\t0.0210\n",
            "\tTrue:\t0.9790\n",
            "\n",
            "Assess:\n",
            "\tFalse:\t0.6986\n",
            "\tTrue:\t0.3014\n",
            "\n",
            "Biopsy:\n",
            "\tFalse:\t0.5321\n",
            "\tTrue:\t0.4679\n",
            "\n",
            "Cancer:\n",
            "\tFalse:\t0.4906\n",
            "\tTrue:\t0.5094\n",
            "\n"
          ],
          "name": "stdout"
        }
      ]
    },
    {
      "cell_type": "code",
      "metadata": {
        "id": "NMLWW3WJMY7J",
        "colab": {
          "base_uri": "https://localhost:8080/"
        },
        "outputId": "15e0523a-1c0b-4f09-cd3a-e6e055e856d6"
      },
      "source": [
        "evidence_set = {\"FamilyHistory\": True,\n",
        "                \"CompFilm\":    False,}\n",
        "\n",
        "inference_result = model.predict_proba(evidence_set)\n",
        "print_inference_result(inference_result)"
      ],
      "execution_count": null,
      "outputs": [
        {
          "output_type": "stream",
          "text": [
            "FamilyHistory:\n",
            "\tTrue\n",
            "\n",
            "CompFilm:\n",
            "\tFalse\n",
            "\n",
            "Density:\n",
            "\tFalse:\t0.0158\n",
            "\tTrue:\t0.9842\n",
            "\n",
            "Assess:\n",
            "\tFalse:\t0.6982\n",
            "\tTrue:\t0.3018\n",
            "\n",
            "Biopsy:\n",
            "\tFalse:\t0.5320\n",
            "\tTrue:\t0.4680\n",
            "\n",
            "Cancer:\n",
            "\tFalse:\t0.4901\n",
            "\tTrue:\t0.5099\n",
            "\n"
          ],
          "name": "stdout"
        }
      ]
    },
    {
      "cell_type": "code",
      "metadata": {
        "id": "EvyUVel4MY2c",
        "colab": {
          "base_uri": "https://localhost:8080/"
        },
        "outputId": "f07e6e72-8a4e-4d2e-e909-7f4784795b91"
      },
      "source": [
        "evidence_set = {\"familyHistory\": True,\n",
        "                \"compFilm\":    True,\n",
        "                \"density\":  True}\n",
        "\n",
        "inference_result = model.predict_proba(evidence_set)\n",
        "print_inference_result(inference_result)"
      ],
      "execution_count": null,
      "outputs": [
        {
          "output_type": "stream",
          "text": [
            "FamilyHistory:\n",
            "\tTrue:\t0.0421\n",
            "\tFalse:\t0.9579\n",
            "\n",
            "CompFilm:\n",
            "\tTrue:\t0.9988\n",
            "\tFalse:\t0.0012\n",
            "\n",
            "Density:\n",
            "\tFalse:\t0.0210\n",
            "\tTrue:\t0.9790\n",
            "\n",
            "Assess:\n",
            "\tFalse:\t0.6986\n",
            "\tTrue:\t0.3014\n",
            "\n",
            "Biopsy:\n",
            "\tFalse:\t0.5321\n",
            "\tTrue:\t0.4679\n",
            "\n",
            "Cancer:\n",
            "\tFalse:\t0.4906\n",
            "\tTrue:\t0.5094\n",
            "\n"
          ],
          "name": "stdout"
        }
      ]
    },
    {
      "cell_type": "code",
      "metadata": {
        "id": "VXKFRVPQMYwe"
      },
      "source": [
        "familyHistory_quantized=DiscreteDistribution({1: 0.17,\n",
        "                                              0: 0.83})\n",
        "\n",
        "compFilm_quantized=DiscreteDistribution({1: 0.85,\n",
        "                                         0: 0.15})\n",
        "\n",
        "density_quantized=ConditionalProbabilityTable([\n",
        "                                     [1, 1, 1,   0.15],\n",
        "                                     [1, 1, 0,   0.16],\n",
        "                                     [1, 0, 1,  0.004],\n",
        "                                     [0, 1, 1,    0.7],\n",
        "                                     [0, 1, 0,    0.7],\n",
        "                                     [0, 0, 0,   0.04],\n",
        "                                     [1, 0, 0,  0.003],\n",
        "                                     [0, 0, 1,   0.26],\n",
        "\n",
        "], [familyHistory_quantized, compFilm_quantized])\n",
        "\n",
        "assess_quantized=ConditionalProbabilityTable([\n",
        "                                    [1,  1,  0.9],\n",
        "                                    [0, 0,  0.15],\n",
        "                                    [0, 1,   0.1],\n",
        "                                    [1,  0, 0.85],\n",
        "], [density_quantized])\n",
        "\n",
        "biophx_quantized=ConditionalProbabilityTable([\n",
        "                                    [1,  1, 0.36],\n",
        "                                    [0, 0,  0.86],\n",
        "                                    [1,  0, 0.24],\n",
        "                                    [0, 1,   0.6],\n",
        "], [assess_quantized])\n",
        "\n",
        "cancer_quantized=ConditionalProbabilityTable([\n",
        "                                    [1,  1,  0.9],\n",
        "                                    [0, 0,  0.14],\n",
        "                                    [0, 1,   0.1],\n",
        "                                    [1,  0, 0.86],\n",
        "],[density_quantized])"
      ],
      "execution_count": null,
      "outputs": []
    },
    {
      "cell_type": "code",
      "metadata": {
        "id": "0W3FsppQVyeP"
      },
      "source": [
        "def generate_topological_samples(sample_count: int = 1) -> np.ndarray:\n",
        " \n",
        "  global familyHistory_quantized, compFilm_quantized, density_quantized\n",
        "  global assess_quantized, biophx_quantized, cancer_quantized\n",
        "  \n",
        "  result = []\n",
        "  \n",
        "  for i in range(sample_count):\n",
        "    \n",
        "   FH_sample = familyHistory_quantized.sample()\n",
        "   CF_sample = compFilm_quantized.sample()\n",
        "    \n",
        "    \n",
        "  B_sample = density_quantized.sample(parent_values={familyHistory_quantized: FH_sample,\n",
        "                                                       compFilm_quantized: CF_sample})\n",
        "    \n",
        "  a_sample = assess_quantized.sample(parent_values={density_quantized: B_sample})\n",
        "  b_sample = biophx_quantized.sample(parent_values={density_quantized: B_sample})\n",
        "  c_sample = cancer_quantized.sample(parent_values={density_quantized: B_sample})\n",
        "    \n",
        "  result.append([FH_sample, CF_sample, base_sample,\n",
        "                   a_sample, b_sample, c_sample])\n",
        "    \n",
        "  return np.array(result)\n",
        "\n",
        "def new_model_from_samples(samples: np.ndarray) -> BayesianNetwork:\n",
        " \n",
        "  learned_model = BayesianNetwork.from_samples(samples)\n",
        "  state_names = [\"familyHistory\",\n",
        "                        \"compFilm\",\n",
        "                        \"density\",\n",
        "                        \"assess\",\n",
        "                        \"biophx\",\n",
        "                        \"cancer\"]\n",
        "  for i in range(len(learned_model.states)):\n",
        "    learned_model.states[i].name = state_names[i]\n",
        "  return learned_model"
      ],
      "execution_count": 22,
      "outputs": []
    },
    {
      "cell_type": "code",
      "metadata": {
        "colab": {
          "base_uri": "https://localhost:8080/",
          "height": 312
        },
        "id": "0ZJFhLmzWBK4",
        "outputId": "5cbe6ab1-eba7-42e8-f189-464a1d4e02fe"
      },
      "source": [
        "num_samples = 1500000\n",
        "\n",
        "samples = generate_topological_samples(num_samples)\n",
        "learned_model = new_model_from_samples(samples)\n",
        "learned_model.plot()"
      ],
      "execution_count": null,
      "outputs": [
        {
          "output_type": "display_data",
          "data": {
            "image/png": "[encoded data removed]",
            "text/plain": [
              "<Figure size 600x400 with 1 Axes>"
            ]
          },
          "metadata": {
            "tags": [],
            "needs_background": "light"
          }
        }
      ]
    }
  ]
}